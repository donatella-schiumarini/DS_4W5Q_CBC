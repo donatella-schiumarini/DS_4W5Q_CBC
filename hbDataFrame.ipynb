{
 "cells": [
  {
   "cell_type": "code",
   "execution_count": 1,
   "id": "a7e4cbcc",
   "metadata": {},
   "outputs": [],
   "source": [
    "import os\n",
    "import numpy as np\n",
    "import pandas as pd"
   ]
  },
  {
   "cell_type": "code",
   "execution_count": 2,
   "id": "e646e5c6",
   "metadata": {},
   "outputs": [
    {
     "name": "stdout",
     "output_type": "stream",
     "text": [
      "working directory\n",
      "C:\\Users\\donat\\ChemBioChem\n"
     ]
    }
   ],
   "source": [
    "wdir=os.getcwd()\n",
    "print('working directory')\n",
    "print(str(wdir))"
   ]
  },
  {
   "cell_type": "code",
   "execution_count": 3,
   "id": "363b4adf",
   "metadata": {
    "scrolled": false
   },
   "outputs": [
    {
     "name": "stdout",
     "output_type": "stream",
     "text": [
      "new directory (the data directory) ? (y)  y\n",
      "d:\\\\MDDona\\\\water_methanol\\\\WM_prod\\\\SELECT_FFINAL\\\\BOX1B\\\\caseE\n",
      "d:\\\\MDDona\\\\water_methanol\\\\WM_prod\\\\SELECT_FFINAL\\\\BOX1B\\\\caseE\n"
     ]
    }
   ],
   "source": [
    "    #d:\\MDDona\\water_methanol\\WM_prod\\SELECT_FFINAL\\BOX1\n",
    "    cs=input('new directory (the data directory) ? (y)  ' )\n",
    "    if cs=='y':\n",
    "        wdir =input()\n",
    "        os.chdir(wdir)\n",
    "        print(str(wdir))    "
   ]
  },
  {
   "cell_type": "code",
   "execution_count": 4,
   "id": "e46829bb",
   "metadata": {},
   "outputs": [
    {
     "data": {
      "text/plain": [
       "'d:\\\\MDDona\\\\water_methanol\\\\WM_prod\\\\SELECT_FFINAL\\\\BOX1B\\\\caseE'"
      ]
     },
     "execution_count": 4,
     "metadata": {},
     "output_type": "execute_result"
    }
   ],
   "source": [
    "pwd"
   ]
  },
  {
   "cell_type": "code",
   "execution_count": 5,
   "id": "776ff5ad",
   "metadata": {},
   "outputs": [
    {
     "name": "stdout",
     "output_type": "stream",
     "text": [
      "case under study\n"
     ]
    },
    {
     "data": {
      "text/plain": [
       "{'Prot_RNA': 'A',\n",
       " 'Prot_MEO': 'B',\n",
       " 'Prot_H2O': 'C',\n",
       " 'RNA_MEO': 'D',\n",
       " 'RNA_H2O': 'E',\n",
       " 'RNA_RNA': 'F'}"
      ]
     },
     "metadata": {},
     "output_type": "display_data"
    },
    {
     "name": "stdout",
     "output_type": "stream",
     "text": [
      "case  E\n"
     ]
    }
   ],
   "source": [
    "case_dic={'Prot_RNA':'A','Prot_MEO':'B','Prot_H2O':'C','RNA_MEO':'D','RNA_H2O':'E','RNA_RNA':'F'}\n",
    "print('case under study')\n",
    "display(case_dic)\n",
    "ntset_dic={'A':['A','G','U','C'], 'B':['MEO'], 'C':['SOL'],'D':['MEO'], 'E':['SOL'],'F':['A','G','U','C']}\n",
    "sset_dic={'A':['nucleotides'], 'B':['Methanol'], 'C':['Water'],'D':['Methanol'], 'E':['water '],'F':['RNA']}\n",
    "fst_dic={'A':'prot','B':'prot','C':'prot','D':'RNA','E':'RNA','F':'RNA'}\n",
    "snd_dic={'A':'RNA','B':'MEO','C':'H2O','D':'MEO','E':'H2O','F':'RNA'}\n",
    "#ntset_list=[['A','G','U','C'],['MEO'],['SOL']]\n",
    "#display(ntset_dic)\n",
    "mycase=input('case  ')"
   ]
  },
  {
   "cell_type": "code",
   "execution_count": 6,
   "id": "a4e12e51",
   "metadata": {},
   "outputs": [
    {
     "name": "stdout",
     "output_type": "stream",
     "text": [
      "case  E  ref. set\n"
     ]
    },
    {
     "data": {
      "text/plain": [
       "['SOL']"
      ]
     },
     "metadata": {},
     "output_type": "display_data"
    }
   ],
   "source": [
    "ntset=ntset_dic[mycase]\n",
    "print('case ', mycase,' ref. set')\n",
    "display(ntset)"
   ]
  },
  {
   "cell_type": "code",
   "execution_count": 7,
   "id": "0d8bf6a0",
   "metadata": {},
   "outputs": [
    {
     "name": "stdout",
     "output_type": "stream",
     "text": [
      " Volume in drive D has no label.\n",
      " Volume Serial Number is 8E63-FE31\n",
      "\n",
      " Directory of d:\\MDDona\\water_methanol\\WM_prod\\SELECT_FFINAL\\BOX1B\\caseE\n",
      "\n",
      "09/30/2024  03:08 PM            59,627 hb_H2O25BOX1_BOX1.log\n",
      "               1 File(s)         59,627 bytes\n",
      "               0 Dir(s)  242,685,911,040 bytes free\n"
     ]
    }
   ],
   "source": [
    "ls *.log"
   ]
  },
  {
   "cell_type": "code",
   "execution_count": 8,
   "id": "a6ce4714",
   "metadata": {},
   "outputs": [
    {
     "name": "stdout",
     "output_type": "stream",
     "text": [
      "Choose the correct .log file!!\n"
     ]
    }
   ],
   "source": [
    "print('Choose the correct .log file!!')"
   ]
  },
  {
   "cell_type": "code",
   "execution_count": 9,
   "id": "c740aafe",
   "metadata": {},
   "outputs": [
    {
     "name": "stdout",
     "output_type": "stream",
     "text": [
      "file= hb_prot22BOX1_H2O.log\n",
      "need a change?  (y)  y\n",
      "new file =hb_H2O25BOX1_BOX1.log\n",
      "file name root=   hb_H2O25BOX1_BOX1\n"
     ]
    }
   ],
   "source": [
    "log_elab='hb_prot22BOX1_H2O.log'\n",
    "print('file=',log_elab)\n",
    "cs=input('need a change?  (y)  ')\n",
    "if cs=='y': log_elab=input('new file =')\n",
    "end=len(log_elab)-4\n",
    "froot=log_elab[0:end]\n",
    "print('file name root=  ',froot)"
   ]
  },
  {
   "cell_type": "code",
   "execution_count": 10,
   "id": "9cd495d0",
   "metadata": {},
   "outputs": [
    {
     "name": "stdout",
     "output_type": "stream",
     "text": [
      "lines[0]= ['Donor', 'Hydrogen', 'Acceptor']\n",
      "b= 1389\n"
     ]
    }
   ],
   "source": [
    "sline=[]\n",
    "with open(log_elab, 'r') as file:\n",
    "    lines = file.readlines()\n",
    "    lines = [line.split() for line in lines]\n",
    "file.close()\n",
    "sline=lines[0]\n",
    "lines[0]=sline[1:len(sline)]\n",
    "print('lines[0]=',lines[0])                    #check\n",
    "b=len(lines)-1\n",
    "print('b=',b)\n",
    "index_b=list(range(0, b))"
   ]
  },
  {
   "cell_type": "code",
   "execution_count": 11,
   "id": "8f6bcf9e",
   "metadata": {
    "scrolled": true
   },
   "outputs": [
    {
     "name": "stdout",
     "output_type": "stream",
     "text": [
      "hb number = 1389 col. num.= 3 shab= 1388\n"
     ]
    },
    {
     "data": {
      "text/html": [
       "<div>\n",
       "<style scoped>\n",
       "    .dataframe tbody tr th:only-of-type {\n",
       "        vertical-align: middle;\n",
       "    }\n",
       "\n",
       "    .dataframe tbody tr th {\n",
       "        vertical-align: top;\n",
       "    }\n",
       "\n",
       "    .dataframe thead th {\n",
       "        text-align: right;\n",
       "    }\n",
       "</style>\n",
       "<table border=\"1\" class=\"dataframe\">\n",
       "  <thead>\n",
       "    <tr style=\"text-align: right;\">\n",
       "      <th></th>\n",
       "      <th>Donor</th>\n",
       "      <th>Hydrogen</th>\n",
       "      <th>Acceptor</th>\n",
       "    </tr>\n",
       "  </thead>\n",
       "  <tbody>\n",
       "    <tr>\n",
       "      <th>0</th>\n",
       "      <td>U1O5'</td>\n",
       "      <td>U1H5T</td>\n",
       "      <td>SOL15170OW</td>\n",
       "    </tr>\n",
       "    <tr>\n",
       "      <th>1</th>\n",
       "      <td>C3N4</td>\n",
       "      <td>C3H41</td>\n",
       "      <td>SOL11999OW</td>\n",
       "    </tr>\n",
       "    <tr>\n",
       "      <th>2</th>\n",
       "      <td>C3N4</td>\n",
       "      <td>C3H41</td>\n",
       "      <td>SOL15180OW</td>\n",
       "    </tr>\n",
       "    <tr>\n",
       "      <th>3</th>\n",
       "      <td>C3N4</td>\n",
       "      <td>C3H41</td>\n",
       "      <td>SOL15955OW</td>\n",
       "    </tr>\n",
       "    <tr>\n",
       "      <th>4</th>\n",
       "      <td>C3N4</td>\n",
       "      <td>C3H41</td>\n",
       "      <td>SOL18306OW</td>\n",
       "    </tr>\n",
       "    <tr>\n",
       "      <th>...</th>\n",
       "      <td>...</td>\n",
       "      <td>...</td>\n",
       "      <td>...</td>\n",
       "    </tr>\n",
       "    <tr>\n",
       "      <th>1384</th>\n",
       "      <td>SOL29968OW</td>\n",
       "      <td>SOL29968HW1</td>\n",
       "      <td>U8O1P</td>\n",
       "    </tr>\n",
       "    <tr>\n",
       "      <th>1385</th>\n",
       "      <td>SOL29970OW</td>\n",
       "      <td>SOL29970HW1</td>\n",
       "      <td>U8O3'</td>\n",
       "    </tr>\n",
       "    <tr>\n",
       "      <th>1386</th>\n",
       "      <td>SOL30026OW</td>\n",
       "      <td>SOL30026HW1</td>\n",
       "      <td>U1O5'</td>\n",
       "    </tr>\n",
       "    <tr>\n",
       "      <th>1387</th>\n",
       "      <td>SOL30026OW</td>\n",
       "      <td>SOL30026HW1</td>\n",
       "      <td>C3O1P</td>\n",
       "    </tr>\n",
       "    <tr>\n",
       "      <th>1388</th>\n",
       "      <td>SOL30042OW</td>\n",
       "      <td>SOL30042HW1</td>\n",
       "      <td>U7O2P</td>\n",
       "    </tr>\n",
       "  </tbody>\n",
       "</table>\n",
       "<p>1389 rows × 3 columns</p>\n",
       "</div>"
      ],
      "text/plain": [
       "           Donor     Hydrogen    Acceptor\n",
       "0          U1O5'        U1H5T  SOL15170OW\n",
       "1           C3N4        C3H41  SOL11999OW\n",
       "2           C3N4        C3H41  SOL15180OW\n",
       "3           C3N4        C3H41  SOL15955OW\n",
       "4           C3N4        C3H41  SOL18306OW\n",
       "...          ...          ...         ...\n",
       "1384  SOL29968OW  SOL29968HW1       U8O1P\n",
       "1385  SOL29970OW  SOL29970HW1       U8O3'\n",
       "1386  SOL30026OW  SOL30026HW1       U1O5'\n",
       "1387  SOL30026OW  SOL30026HW1       C3O1P\n",
       "1388  SOL30042OW  SOL30042HW1       U7O2P\n",
       "\n",
       "[1389 rows x 3 columns]"
      ]
     },
     "metadata": {},
     "output_type": "display_data"
    }
   ],
   "source": [
    "df_dat=pd.DataFrame(data=lines[1:len(lines)], index=index_b, columns=lines[0])\n",
    "sha=df_dat.shape\n",
    "sha0=sha[0]\n",
    "shab=sha0-1\n",
    "print('hb number =',sha0, 'col. num.=',sha[1], 'shab=',shab)\n",
    "display(df_dat)"
   ]
  },
  {
   "cell_type": "code",
   "execution_count": 12,
   "id": "92a302ca",
   "metadata": {},
   "outputs": [
    {
     "name": "stdout",
     "output_type": "stream",
     "text": [
      "df_dat reversed\n"
     ]
    },
    {
     "data": {
      "text/html": [
       "<div>\n",
       "<style scoped>\n",
       "    .dataframe tbody tr th:only-of-type {\n",
       "        vertical-align: middle;\n",
       "    }\n",
       "\n",
       "    .dataframe tbody tr th {\n",
       "        vertical-align: top;\n",
       "    }\n",
       "\n",
       "    .dataframe thead th {\n",
       "        text-align: right;\n",
       "    }\n",
       "</style>\n",
       "<table border=\"1\" class=\"dataframe\">\n",
       "  <thead>\n",
       "    <tr style=\"text-align: right;\">\n",
       "      <th></th>\n",
       "      <th>Donor</th>\n",
       "      <th>Hydrogen</th>\n",
       "      <th>Acceptor</th>\n",
       "    </tr>\n",
       "  </thead>\n",
       "  <tbody>\n",
       "    <tr>\n",
       "      <th>0</th>\n",
       "      <td>SOL30042OW</td>\n",
       "      <td>SOL30042HW1</td>\n",
       "      <td>U7O2P</td>\n",
       "    </tr>\n",
       "    <tr>\n",
       "      <th>1</th>\n",
       "      <td>SOL30026OW</td>\n",
       "      <td>SOL30026HW1</td>\n",
       "      <td>C3O1P</td>\n",
       "    </tr>\n",
       "    <tr>\n",
       "      <th>2</th>\n",
       "      <td>SOL30026OW</td>\n",
       "      <td>SOL30026HW1</td>\n",
       "      <td>U1O5'</td>\n",
       "    </tr>\n",
       "    <tr>\n",
       "      <th>3</th>\n",
       "      <td>SOL29970OW</td>\n",
       "      <td>SOL29970HW1</td>\n",
       "      <td>U8O3'</td>\n",
       "    </tr>\n",
       "    <tr>\n",
       "      <th>4</th>\n",
       "      <td>SOL29968OW</td>\n",
       "      <td>SOL29968HW1</td>\n",
       "      <td>U8O1P</td>\n",
       "    </tr>\n",
       "    <tr>\n",
       "      <th>...</th>\n",
       "      <td>...</td>\n",
       "      <td>...</td>\n",
       "      <td>...</td>\n",
       "    </tr>\n",
       "    <tr>\n",
       "      <th>1384</th>\n",
       "      <td>C3N4</td>\n",
       "      <td>C3H41</td>\n",
       "      <td>SOL18306OW</td>\n",
       "    </tr>\n",
       "    <tr>\n",
       "      <th>1385</th>\n",
       "      <td>C3N4</td>\n",
       "      <td>C3H41</td>\n",
       "      <td>SOL15955OW</td>\n",
       "    </tr>\n",
       "    <tr>\n",
       "      <th>1386</th>\n",
       "      <td>C3N4</td>\n",
       "      <td>C3H41</td>\n",
       "      <td>SOL15180OW</td>\n",
       "    </tr>\n",
       "    <tr>\n",
       "      <th>1387</th>\n",
       "      <td>C3N4</td>\n",
       "      <td>C3H41</td>\n",
       "      <td>SOL11999OW</td>\n",
       "    </tr>\n",
       "    <tr>\n",
       "      <th>1388</th>\n",
       "      <td>U1O5'</td>\n",
       "      <td>U1H5T</td>\n",
       "      <td>SOL15170OW</td>\n",
       "    </tr>\n",
       "  </tbody>\n",
       "</table>\n",
       "<p>1389 rows × 3 columns</p>\n",
       "</div>"
      ],
      "text/plain": [
       "           Donor     Hydrogen    Acceptor\n",
       "0     SOL30042OW  SOL30042HW1       U7O2P\n",
       "1     SOL30026OW  SOL30026HW1       C3O1P\n",
       "2     SOL30026OW  SOL30026HW1       U1O5'\n",
       "3     SOL29970OW  SOL29970HW1       U8O3'\n",
       "4     SOL29968OW  SOL29968HW1       U8O1P\n",
       "...          ...          ...         ...\n",
       "1384        C3N4        C3H41  SOL18306OW\n",
       "1385        C3N4        C3H41  SOL15955OW\n",
       "1386        C3N4        C3H41  SOL15180OW\n",
       "1387        C3N4        C3H41  SOL11999OW\n",
       "1388       U1O5'        U1H5T  SOL15170OW\n",
       "\n",
       "[1389 rows x 3 columns]"
      ]
     },
     "metadata": {},
     "output_type": "display_data"
    }
   ],
   "source": [
    "Ap=[['','','']]*sha0\n",
    "ic=-1\n",
    "for i in range (0,sha0):\n",
    "    ic+=1\n",
    "    b=shab-i\n",
    "    Ap1=df_dat.iloc[b,0].strip()\n",
    "    Ap2=df_dat.iloc[b,1].strip()\n",
    "    Ap3=df_dat.iloc[b,2].strip()\n",
    "    Ap[i]=[Ap1,Ap2,Ap3]\n",
    "col=df_dat.columns\n",
    "#display(Ap[:])                                  #check\n",
    "#display(len(Ap))                                #check\n",
    "df1_dat=pd.DataFrame(data=Ap,columns=col)\n",
    "df_dat=df1_dat\n",
    "print('df_dat reversed')\n",
    "display(df_dat)"
   ]
  },
  {
   "cell_type": "code",
   "execution_count": 13,
   "id": "7073c1e5",
   "metadata": {
    "scrolled": true
   },
   "outputs": [],
   "source": [
    "#display(df_dat.Donor[:])                  #check\n",
    "#display(df_dat.columns[:])                #check"
   ]
  },
  {
   "cell_type": "code",
   "execution_count": 14,
   "id": "5fcc3d42",
   "metadata": {},
   "outputs": [],
   "source": [
    "amin=''\n",
    "res=''\n",
    "number= ['0','1','2','3','4','5','6','7','8','9']\n",
    "d_pres=''\n",
    "d_amin=[]\n",
    "d_res=[]\n",
    "a_amin=[]\n",
    "a_res=[]"
   ]
  },
  {
   "cell_type": "code",
   "execution_count": 15,
   "id": "3f2034ff",
   "metadata": {},
   "outputs": [],
   "source": [
    "for item in df_dat.Donor :\n",
    "    ai=len(item)\n",
    "    for i in range (0,ai):\n",
    "        if item[i] not in number:\n",
    "            amin=amin+item[i]\n",
    "        else:\n",
    "            ain=i\n",
    "            for ii in range (ain,ai):\n",
    "                d_pres=d_pres+item[ii]\n",
    "            break\n",
    "    ai=len(d_pres)\n",
    "    for it in range (0,ai):\n",
    "        if d_pres[it] in number:\n",
    "            res=res+d_pres[it]\n",
    "        else: break\n",
    "    d_amin.append(amin)\n",
    "    d_res.append(res)\n",
    "    amin=''\n",
    "    res=''\n",
    "    d_pres=''"
   ]
  },
  {
   "cell_type": "code",
   "execution_count": 16,
   "id": "ce49f85a",
   "metadata": {},
   "outputs": [],
   "source": [
    "#count=0\n",
    "#display(df_dat.Donor)\n",
    "for item in df_dat.Acceptor:\n",
    "#    count+=1\n",
    "#    print('item', item, 'count=', count)\n",
    "    ai=len(item)\n",
    "    for i in range (0,ai):\n",
    "        if item[i] not in number:\n",
    "            amin=amin+item[i]\n",
    "        else:\n",
    "            ain=i\n",
    "            for ii in range (ain,ai):\n",
    "                d_pres=d_pres+item[ii]\n",
    "            break\n",
    "    ai=len(d_pres)\n",
    "    for it in range (0,ai):\n",
    "        if d_pres[it] in number:\n",
    "            res=res+d_pres[it]\n",
    "        else: break\n",
    "    a_amin.append(amin)\n",
    "    a_res.append(res)\n",
    "    amin=''\n",
    "    res=''\n",
    "    d_pres=''"
   ]
  },
  {
   "cell_type": "code",
   "execution_count": 17,
   "id": "5cfa7afc",
   "metadata": {},
   "outputs": [
    {
     "data": {
      "text/html": [
       "<div>\n",
       "<style scoped>\n",
       "    .dataframe tbody tr th:only-of-type {\n",
       "        vertical-align: middle;\n",
       "    }\n",
       "\n",
       "    .dataframe tbody tr th {\n",
       "        vertical-align: top;\n",
       "    }\n",
       "\n",
       "    .dataframe thead th {\n",
       "        text-align: right;\n",
       "    }\n",
       "</style>\n",
       "<table border=\"1\" class=\"dataframe\">\n",
       "  <thead>\n",
       "    <tr style=\"text-align: right;\">\n",
       "      <th></th>\n",
       "      <th>Donor</th>\n",
       "      <th>Hydrogen</th>\n",
       "      <th>Acceptor</th>\n",
       "      <th>D_resname</th>\n",
       "      <th>D_resnum</th>\n",
       "      <th>A_resname</th>\n",
       "      <th>A_resnum</th>\n",
       "    </tr>\n",
       "  </thead>\n",
       "  <tbody>\n",
       "    <tr>\n",
       "      <th>0</th>\n",
       "      <td>SOL30042OW</td>\n",
       "      <td>SOL30042HW1</td>\n",
       "      <td>U7O2P</td>\n",
       "      <td>SOL</td>\n",
       "      <td>30042</td>\n",
       "      <td>U</td>\n",
       "      <td>7</td>\n",
       "    </tr>\n",
       "    <tr>\n",
       "      <th>1</th>\n",
       "      <td>SOL30026OW</td>\n",
       "      <td>SOL30026HW1</td>\n",
       "      <td>C3O1P</td>\n",
       "      <td>SOL</td>\n",
       "      <td>30026</td>\n",
       "      <td>C</td>\n",
       "      <td>3</td>\n",
       "    </tr>\n",
       "    <tr>\n",
       "      <th>2</th>\n",
       "      <td>SOL30026OW</td>\n",
       "      <td>SOL30026HW1</td>\n",
       "      <td>U1O5'</td>\n",
       "      <td>SOL</td>\n",
       "      <td>30026</td>\n",
       "      <td>U</td>\n",
       "      <td>1</td>\n",
       "    </tr>\n",
       "    <tr>\n",
       "      <th>3</th>\n",
       "      <td>SOL29970OW</td>\n",
       "      <td>SOL29970HW1</td>\n",
       "      <td>U8O3'</td>\n",
       "      <td>SOL</td>\n",
       "      <td>29970</td>\n",
       "      <td>U</td>\n",
       "      <td>8</td>\n",
       "    </tr>\n",
       "    <tr>\n",
       "      <th>4</th>\n",
       "      <td>SOL29968OW</td>\n",
       "      <td>SOL29968HW1</td>\n",
       "      <td>U8O1P</td>\n",
       "      <td>SOL</td>\n",
       "      <td>29968</td>\n",
       "      <td>U</td>\n",
       "      <td>8</td>\n",
       "    </tr>\n",
       "    <tr>\n",
       "      <th>...</th>\n",
       "      <td>...</td>\n",
       "      <td>...</td>\n",
       "      <td>...</td>\n",
       "      <td>...</td>\n",
       "      <td>...</td>\n",
       "      <td>...</td>\n",
       "      <td>...</td>\n",
       "    </tr>\n",
       "    <tr>\n",
       "      <th>1384</th>\n",
       "      <td>C3N4</td>\n",
       "      <td>C3H41</td>\n",
       "      <td>SOL18306OW</td>\n",
       "      <td>C</td>\n",
       "      <td>3</td>\n",
       "      <td>SOL</td>\n",
       "      <td>18306</td>\n",
       "    </tr>\n",
       "    <tr>\n",
       "      <th>1385</th>\n",
       "      <td>C3N4</td>\n",
       "      <td>C3H41</td>\n",
       "      <td>SOL15955OW</td>\n",
       "      <td>C</td>\n",
       "      <td>3</td>\n",
       "      <td>SOL</td>\n",
       "      <td>15955</td>\n",
       "    </tr>\n",
       "    <tr>\n",
       "      <th>1386</th>\n",
       "      <td>C3N4</td>\n",
       "      <td>C3H41</td>\n",
       "      <td>SOL15180OW</td>\n",
       "      <td>C</td>\n",
       "      <td>3</td>\n",
       "      <td>SOL</td>\n",
       "      <td>15180</td>\n",
       "    </tr>\n",
       "    <tr>\n",
       "      <th>1387</th>\n",
       "      <td>C3N4</td>\n",
       "      <td>C3H41</td>\n",
       "      <td>SOL11999OW</td>\n",
       "      <td>C</td>\n",
       "      <td>3</td>\n",
       "      <td>SOL</td>\n",
       "      <td>11999</td>\n",
       "    </tr>\n",
       "    <tr>\n",
       "      <th>1388</th>\n",
       "      <td>U1O5'</td>\n",
       "      <td>U1H5T</td>\n",
       "      <td>SOL15170OW</td>\n",
       "      <td>U</td>\n",
       "      <td>1</td>\n",
       "      <td>SOL</td>\n",
       "      <td>15170</td>\n",
       "    </tr>\n",
       "  </tbody>\n",
       "</table>\n",
       "<p>1389 rows × 7 columns</p>\n",
       "</div>"
      ],
      "text/plain": [
       "           Donor     Hydrogen    Acceptor D_resname D_resnum A_resname  \\\n",
       "0     SOL30042OW  SOL30042HW1       U7O2P       SOL    30042         U   \n",
       "1     SOL30026OW  SOL30026HW1       C3O1P       SOL    30026         C   \n",
       "2     SOL30026OW  SOL30026HW1       U1O5'       SOL    30026         U   \n",
       "3     SOL29970OW  SOL29970HW1       U8O3'       SOL    29970         U   \n",
       "4     SOL29968OW  SOL29968HW1       U8O1P       SOL    29968         U   \n",
       "...          ...          ...         ...       ...      ...       ...   \n",
       "1384        C3N4        C3H41  SOL18306OW         C        3       SOL   \n",
       "1385        C3N4        C3H41  SOL15955OW         C        3       SOL   \n",
       "1386        C3N4        C3H41  SOL15180OW         C        3       SOL   \n",
       "1387        C3N4        C3H41  SOL11999OW         C        3       SOL   \n",
       "1388       U1O5'        U1H5T  SOL15170OW         U        1       SOL   \n",
       "\n",
       "     A_resnum  \n",
       "0           7  \n",
       "1           3  \n",
       "2           1  \n",
       "3           8  \n",
       "4           8  \n",
       "...       ...  \n",
       "1384    18306  \n",
       "1385    15955  \n",
       "1386    15180  \n",
       "1387    11999  \n",
       "1388    15170  \n",
       "\n",
       "[1389 rows x 7 columns]"
      ]
     },
     "metadata": {},
     "output_type": "display_data"
    }
   ],
   "source": [
    "# display(d_amin[:])\n",
    "# display(d_res[:])\n",
    "# display(a_amin[:])\n",
    "# display(a_res[:])\n",
    "df_dat.insert(3,'D_resname',d_amin)\n",
    "df_dat.insert(4,'D_resnum',d_res)\n",
    "df_dat.insert(5,'A_resname',a_amin)\n",
    "df_dat.insert(6,'A_resnum',a_res)\n",
    "display(df_dat[:])"
   ]
  },
  {
   "cell_type": "code",
   "execution_count": 18,
   "id": "f7e1a0df",
   "metadata": {},
   "outputs": [],
   "source": [
    "nfile=froot+'.csv'\n",
    "df_dat.to_csv(nfile, sep=',',index=False)"
   ]
  },
  {
   "cell_type": "code",
   "execution_count": 19,
   "id": "150048f9",
   "metadata": {},
   "outputs": [
    {
     "name": "stdout",
     "output_type": "stream",
     "text": [
      " Volume in drive D has no label.\n",
      " Volume Serial Number is 8E63-FE31\n",
      "\n",
      " Directory of d:\\MDDona\\water_methanol\\WM_prod\\SELECT_FFINAL\\BOX1B\\caseE\n",
      "\n",
      "10/25/2024  12:37 PM            66,005 df_hb_H2O25BOX1_BOX1.csv\n",
      "11/12/2024  09:28 AM            59,928 hb_H2O25BOX1_BOX1.csv\n",
      "               2 File(s)        125,933 bytes\n",
      "               0 Dir(s)  242,685,911,040 bytes free\n"
     ]
    }
   ],
   "source": [
    "ls *.csv"
   ]
  },
  {
   "cell_type": "code",
   "execution_count": 20,
   "id": "749de91e",
   "metadata": {},
   "outputs": [
    {
     "data": {
      "text/html": [
       "<div>\n",
       "<style scoped>\n",
       "    .dataframe tbody tr th:only-of-type {\n",
       "        vertical-align: middle;\n",
       "    }\n",
       "\n",
       "    .dataframe tbody tr th {\n",
       "        vertical-align: top;\n",
       "    }\n",
       "\n",
       "    .dataframe thead th {\n",
       "        text-align: right;\n",
       "    }\n",
       "</style>\n",
       "<table border=\"1\" class=\"dataframe\">\n",
       "  <thead>\n",
       "    <tr style=\"text-align: right;\">\n",
       "      <th></th>\n",
       "      <th>Donor</th>\n",
       "      <th>Hydrogen</th>\n",
       "      <th>Acceptor</th>\n",
       "      <th>D_resname</th>\n",
       "      <th>D_resnum</th>\n",
       "      <th>A_resname</th>\n",
       "      <th>A_resnum</th>\n",
       "    </tr>\n",
       "  </thead>\n",
       "  <tbody>\n",
       "    <tr>\n",
       "      <th>0</th>\n",
       "      <td>SOL30042OW</td>\n",
       "      <td>SOL30042HW1</td>\n",
       "      <td>U7O2P</td>\n",
       "      <td>SOL</td>\n",
       "      <td>30042</td>\n",
       "      <td>U</td>\n",
       "      <td>7</td>\n",
       "    </tr>\n",
       "    <tr>\n",
       "      <th>1</th>\n",
       "      <td>SOL30026OW</td>\n",
       "      <td>SOL30026HW1</td>\n",
       "      <td>C3O1P</td>\n",
       "      <td>SOL</td>\n",
       "      <td>30026</td>\n",
       "      <td>C</td>\n",
       "      <td>3</td>\n",
       "    </tr>\n",
       "    <tr>\n",
       "      <th>2</th>\n",
       "      <td>SOL30026OW</td>\n",
       "      <td>SOL30026HW1</td>\n",
       "      <td>U1O5'</td>\n",
       "      <td>SOL</td>\n",
       "      <td>30026</td>\n",
       "      <td>U</td>\n",
       "      <td>1</td>\n",
       "    </tr>\n",
       "    <tr>\n",
       "      <th>3</th>\n",
       "      <td>SOL29970OW</td>\n",
       "      <td>SOL29970HW1</td>\n",
       "      <td>U8O3'</td>\n",
       "      <td>SOL</td>\n",
       "      <td>29970</td>\n",
       "      <td>U</td>\n",
       "      <td>8</td>\n",
       "    </tr>\n",
       "    <tr>\n",
       "      <th>4</th>\n",
       "      <td>SOL29968OW</td>\n",
       "      <td>SOL29968HW1</td>\n",
       "      <td>U8O1P</td>\n",
       "      <td>SOL</td>\n",
       "      <td>29968</td>\n",
       "      <td>U</td>\n",
       "      <td>8</td>\n",
       "    </tr>\n",
       "    <tr>\n",
       "      <th>...</th>\n",
       "      <td>...</td>\n",
       "      <td>...</td>\n",
       "      <td>...</td>\n",
       "      <td>...</td>\n",
       "      <td>...</td>\n",
       "      <td>...</td>\n",
       "      <td>...</td>\n",
       "    </tr>\n",
       "    <tr>\n",
       "      <th>1384</th>\n",
       "      <td>C3N4</td>\n",
       "      <td>C3H41</td>\n",
       "      <td>SOL18306OW</td>\n",
       "      <td>C</td>\n",
       "      <td>3</td>\n",
       "      <td>SOL</td>\n",
       "      <td>18306</td>\n",
       "    </tr>\n",
       "    <tr>\n",
       "      <th>1385</th>\n",
       "      <td>C3N4</td>\n",
       "      <td>C3H41</td>\n",
       "      <td>SOL15955OW</td>\n",
       "      <td>C</td>\n",
       "      <td>3</td>\n",
       "      <td>SOL</td>\n",
       "      <td>15955</td>\n",
       "    </tr>\n",
       "    <tr>\n",
       "      <th>1386</th>\n",
       "      <td>C3N4</td>\n",
       "      <td>C3H41</td>\n",
       "      <td>SOL15180OW</td>\n",
       "      <td>C</td>\n",
       "      <td>3</td>\n",
       "      <td>SOL</td>\n",
       "      <td>15180</td>\n",
       "    </tr>\n",
       "    <tr>\n",
       "      <th>1387</th>\n",
       "      <td>C3N4</td>\n",
       "      <td>C3H41</td>\n",
       "      <td>SOL11999OW</td>\n",
       "      <td>C</td>\n",
       "      <td>3</td>\n",
       "      <td>SOL</td>\n",
       "      <td>11999</td>\n",
       "    </tr>\n",
       "    <tr>\n",
       "      <th>1388</th>\n",
       "      <td>U1O5'</td>\n",
       "      <td>U1H5T</td>\n",
       "      <td>SOL15170OW</td>\n",
       "      <td>U</td>\n",
       "      <td>1</td>\n",
       "      <td>SOL</td>\n",
       "      <td>15170</td>\n",
       "    </tr>\n",
       "  </tbody>\n",
       "</table>\n",
       "<p>1389 rows × 7 columns</p>\n",
       "</div>"
      ],
      "text/plain": [
       "           Donor     Hydrogen    Acceptor D_resname  D_resnum A_resname  \\\n",
       "0     SOL30042OW  SOL30042HW1       U7O2P       SOL     30042         U   \n",
       "1     SOL30026OW  SOL30026HW1       C3O1P       SOL     30026         C   \n",
       "2     SOL30026OW  SOL30026HW1       U1O5'       SOL     30026         U   \n",
       "3     SOL29970OW  SOL29970HW1       U8O3'       SOL     29970         U   \n",
       "4     SOL29968OW  SOL29968HW1       U8O1P       SOL     29968         U   \n",
       "...          ...          ...         ...       ...       ...       ...   \n",
       "1384        C3N4        C3H41  SOL18306OW         C         3       SOL   \n",
       "1385        C3N4        C3H41  SOL15955OW         C         3       SOL   \n",
       "1386        C3N4        C3H41  SOL15180OW         C         3       SOL   \n",
       "1387        C3N4        C3H41  SOL11999OW         C         3       SOL   \n",
       "1388       U1O5'        U1H5T  SOL15170OW         U         1       SOL   \n",
       "\n",
       "      A_resnum  \n",
       "0            7  \n",
       "1            3  \n",
       "2            1  \n",
       "3            8  \n",
       "4            8  \n",
       "...        ...  \n",
       "1384     18306  \n",
       "1385     15955  \n",
       "1386     15180  \n",
       "1387     11999  \n",
       "1388     15170  \n",
       "\n",
       "[1389 rows x 7 columns]"
      ]
     },
     "metadata": {},
     "output_type": "display_data"
    },
    {
     "name": "stdout",
     "output_type": "stream",
     "text": [
      "total items number = 1389\n"
     ]
    }
   ],
   "source": [
    "df_pload=pd.DataFrame()\n",
    "df_pload=pd.read_csv(nfile,skipinitialspace=True)\n",
    "display(df_pload)\n",
    "shape=df_pload.shape\n",
    "print('total items number =',shape[0])\n",
    "dfline=shape[0]"
   ]
  },
  {
   "cell_type": "code",
   "execution_count": 21,
   "id": "75212d15",
   "metadata": {},
   "outputs": [],
   "source": [
    "hb_prot=[]\n",
    "hb_SOL=[]\n",
    "hbd_prot=[]\n",
    "hbd_SOL=[]\n",
    "hba_prot=[]\n",
    "hba_SOL=[]"
   ]
  },
  {
   "cell_type": "code",
   "execution_count": 22,
   "id": "fcbcc3d3",
   "metadata": {},
   "outputs": [
    {
     "name": "stdout",
     "output_type": "stream",
     "text": [
      "Starting Donor Kind= SOL\n",
      "cut elem= 1248  on total  1389\n",
      "cuta= 1\n",
      "cutb= 1248\n",
      "cuta= 1 cute= 1248\n"
     ]
    }
   ],
   "source": [
    "cont=df_dat.D_resname[0]\n",
    "print('Starting Donor Kind=',cont)\n",
    "cuta=0\n",
    "cutb=0\n",
    "cute=0\n",
    "if  cont  in ntset: cuta=1 \n",
    "if cuta==0:\n",
    "    for i in range (0,dfline):\n",
    "        if df_pload.D_resname[i] in ntset: print ('cut elem=',i,' on total ',dfline); cutb=i;break\n",
    "    print('cuta=',cuta)\n",
    "    print('cutb=',cutb)\n",
    "elif cuta==1:\n",
    "    for i in range (0,dfline):\n",
    "        if df_pload.D_resname[i] not in ntset: print ('cut elem=',i,' on total ',dfline); cutb=i;break\n",
    "    print('cuta=',cuta)\n",
    "    print('cutb=',cutb)\n",
    "if (cuta==0) and (cuta==cutb):\n",
    "    print('no '+sset_dic[mycase] +' as donor')\n",
    "    cute=dfline\n",
    "elif (cuta==1 and cutb==0):\n",
    "    if (mycase=='A') or (mycase=='B') or (mycase=='C'):print('no peptides as donors'); cute=0\n",
    "    if (mycase=='D') or (mycase=='E') :print('no nucleotides as donors'); cute=0\n",
    "    if (mycase=='F'): print('nucleotides as donors and acceptors');cute=0\n",
    "else: \n",
    "    cute=cutb\n",
    "print('cuta=', cuta,'cute=',cute)\n"
   ]
  },
  {
   "cell_type": "code",
   "execution_count": null,
   "id": "141f6f52",
   "metadata": {},
   "outputs": [],
   "source": [
    "\n",
    "hbd_first=[]\n",
    "hbd_second=[]\n",
    "hba_first=[]\n",
    "hba_second=[]\n",
    "hb_first=[]\n",
    "hb_second=[]\n",
    "for i in range (0,cute):\n",
    "    str_c=df_pload.D_resname[i]+str(df_pload.D_resnum[i])\n",
    "    if cuta==0 and str_c not in hbd_first:hbd_first.append(str_c);hb_first.append(str_c)\n",
    "    if cuta==1 and str_c not in hbd_second: hbd_second.append(str_c);hb_second.append(str_c)\n",
    "# initialization\n",
    "\n",
    "for i in range (cute,dfline):\n",
    "    str_c=df_pload.D_resname[i]+str(df_pload.D_resnum[i])\n",
    "    if cuta==0 and str_c not in hbd_second:\n",
    "        hbd_second.append(str_c)\n",
    "        if str_c not in hb_second:hb_second.append(str_c)\n",
    "    if cuta==1 and str_c not in hbd_first:\n",
    "        hbd_first.append(str_c)\n",
    "        if str_c not in hb_first:hb_first.append(str_c)\n",
    "            \n",
    "for i in range (0,cute):\n",
    "    str_c=df_pload.A_resname[i]+str(df_pload.A_resnum[i])\n",
    "    if cuta==0 and str_c not in hba_second:\n",
    "        hba_second.append(str_c)\n",
    "        if str_c not in hb_second: hb_second.append(str_c)\n",
    "    if cuta==1 and str_c not in hba_first:\n",
    "        hba_first.append(str_c)\n",
    "        if str_c not in hb_first: hb_first.append(str_c)\n",
    "            \n",
    "for i in range (cute,dfline):\n",
    "    str_c=df_pload.A_resname[i]+str(df_pload.A_resnum[i])\n",
    "    if cuta==0 and str_c not in hba_first:\n",
    "        hba_first.append(str_c)\n",
    "        if str_c not in hb_first: hb_first.append(str_c)\n",
    "    if cuta==1 and str_c not in hba_second:\n",
    "        hba_second.append(str_c)\n",
    "        if str_c not in hb_second: hb_second.append(str_c)"
   ]
  },
  {
   "cell_type": "code",
   "execution_count": null,
   "id": "966d914d",
   "metadata": {},
   "outputs": [],
   "source": [
    "print('len hbd_',fst_dic[mycase], len(hbd_first))\n",
    "print('len hba_', fst_dic[mycase], len(hba_first))\n",
    "print('len hb_',fst_dic[mycase],len(hb_first))\n",
    "print(' ')\n",
    "print('len hbd_',snd_dic[mycase], len(hbd_second))\n",
    "print('len hba_',snd_dic[mycase], len(hba_second))\n",
    "print('len hb_',snd_dic[mycase],len(hb_second))"
   ]
  },
  {
   "cell_type": "code",
   "execution_count": null,
   "id": "4049818b",
   "metadata": {},
   "outputs": [],
   "source": [
    "#df_pload=df_pload.drop(labels=['Kind'],axis=1)\n",
    "if (mycase=='A') or (mycase=='D') or (mycase=='E') or (mycase=='F'):\n",
    "    RNAdic={'U1':'mi','U2':'mi','C3':'mi','A4':'mi','C5':'mi','A6':'mi','U7':'mi','U8':'mi','A9':'m','A8':'m','G7':'m','U6':'m','G5':'m','U4':'m','A3':'m','A2':'m'}\n",
    "    display('data frame df_pload',df_pload)\n",
    "    #df_pload=df_pload.drop(df_pload.columns[7],axis=1)\n",
    "    display('df_pload.shape= ',df_pload.shape)\n",
    "    display('RNA seed nucleotide set= ',RNAdic)\n",
    "    lD=df_pload.shape[0]\n",
    "    kind=[]\n",
    "    for i in range (0,lD):\n",
    "        AA=df_pload.D_resname[i]+str(df_pload.D_resnum[i])\n",
    "#        print('AA=', AA)\n",
    "#        if AA[0:2] in RNAdic : kind.append(RNAdic[AA[0:2]])\n",
    "        if AA in RNAdic : kind.append(RNAdic[AA])\n",
    "        else:\n",
    "            AA=df_pload.A_resname[i]+str(df_pload.A_resnum[i])\n",
    "#            print('AA=', AA)\n",
    "            kind.append(RNAdic[AA])\n",
    "#    display('kind=',kind)\n",
    "    df_pload.insert(7,'Kind',kind)\n",
    "    display(df_pload)\n",
    "else:print('not the case')"
   ]
  },
  {
   "cell_type": "code",
   "execution_count": null,
   "id": "55082b09",
   "metadata": {},
   "outputs": [],
   "source": [
    "auto_hb=[]\n",
    "auto=0\n",
    "for i in range (0,dfline):\n",
    "    str_1=df_pload.D_resname[i]+str(df_pload.D_resnum[i])\n",
    "    str_2=df_pload.A_resname[i]+str(df_pload.A_resnum[i])\n",
    "    if str_1 == str_2: auto_hb.append('0')\n",
    "    else:auto_hb.append('1'); auto+=1\n",
    "df_pload.insert(loc=7,column='auto', value=auto_hb)\n",
    "display(df_pload)\n",
    "#display(df_pload.loc[95:100])\n"
   ]
  },
  {
   "cell_type": "code",
   "execution_count": null,
   "id": "2ff877b3",
   "metadata": {},
   "outputs": [],
   "source": [
    "csv_file='df_'+froot+'.csv'\n",
    "print('data stored in file ',csv_file )\n",
    "df_pload.to_csv(csv_file, index=False)         "
   ]
  },
  {
   "cell_type": "code",
   "execution_count": null,
   "id": "8f1685f4",
   "metadata": {},
   "outputs": [],
   "source": [
    "ls *.csv"
   ]
  },
  {
   "cell_type": "code",
   "execution_count": null,
   "id": "92ba0ba7",
   "metadata": {},
   "outputs": [],
   "source": [
    "df_check=pd.DataFrame\n",
    "check=input('file to read?')\n",
    "df_check=pd.read_csv(check)\n",
    "display(df_check)"
   ]
  },
  {
   "cell_type": "code",
   "execution_count": null,
   "id": "69e4fbe2",
   "metadata": {},
   "outputs": [],
   "source": []
  },
  {
   "cell_type": "code",
   "execution_count": null,
   "id": "bca56224",
   "metadata": {},
   "outputs": [],
   "source": []
  }
 ],
 "metadata": {
  "kernelspec": {
   "display_name": "Python 3 (ipykernel)",
   "language": "python",
   "name": "python3"
  },
  "language_info": {
   "codemirror_mode": {
    "name": "ipython",
    "version": 3
   },
   "file_extension": ".py",
   "mimetype": "text/x-python",
   "name": "python",
   "nbconvert_exporter": "python",
   "pygments_lexer": "ipython3",
   "version": "3.9.7"
  }
 },
 "nbformat": 4,
 "nbformat_minor": 5
}
